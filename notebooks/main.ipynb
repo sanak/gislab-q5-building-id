{
 "cells": [
  {
   "cell_type": "markdown",
   "id": "c94f2ad1-15aa-4699-bb8f-856adcc2c9e6",
   "metadata": {},
   "source": [
    "# Geohashを活用した建物IDの付番\n",
    "\n",
    "Geohashを活用して建物に固有のIDを付与するプロジェクトのための作業ノートブック。\n",
    "\n",
    "作成にあたっては [@sokimura39](https://github.com/sokimura39) さんの以下のノートブックをかなり参考にさせて頂きました。この場を借りてお礼申し上げます。\n",
    "- [sokimura39/building_id_H3](https://github.com/sokimura39/building_id_H3)\n",
    "  - [H3_grid_id.ipynb](https://github.com/sokimura39/building_id_H3/blob/main/H3_grid_id.ipynb)\n",
    "\n",
    "### 使用データ\n",
    "\n",
    "[3D都市モデル（Project PLATEAU）千代田区（2023年度）](https://www.geospatial.jp/ckan/dataset/plateau-13101-chiyoda-ku-2023) のCityGML（v3）データより、東京駅付近の3次メッシュ4区画分のLOD0データをGDALのogr2ogrでGeoPackageに変換したものを利用。\n",
    "- 3次メッシュ: 53394600,53394601,53394610,53394611\n",
    "- 平面直角座標系番号: 9系 (EPSG:6677)\n",
    "\n",
    "### 使用した主なパッケージ\n",
    "\n",
    "- geohash (python-geohash)\n",
    "- GeoPandas"
   ]
  },
  {
   "cell_type": "code",
   "execution_count": 1,
   "id": "29ea6083-1cc1-4033-a348-932a3bf8c9dd",
   "metadata": {},
   "outputs": [],
   "source": [
    "import geohash\n",
    "import geopandas as gpd\n",
    "import matplotlib.pyplot as plt"
   ]
  },
  {
   "cell_type": "code",
   "execution_count": 2,
   "id": "e9b72f61-23af-4fa5-ad9a-b821829771b6",
   "metadata": {},
   "outputs": [],
   "source": [
    "# 建物データをロード\n",
    "gdf = gpd.read_file('../data/plateau/geopackage/13100_tokyo_2023.gpkg')"
   ]
  },
  {
   "cell_type": "code",
   "execution_count": 3,
   "id": "e2aed674-9929-4e20-9cbb-32d8579b764f",
   "metadata": {},
   "outputs": [
    {
     "name": "stdout",
     "output_type": "stream",
     "text": [
      "対象建物数：4625件\n"
     ]
    }
   ],
   "source": [
    "# 件数の確認。今回は4625の建物を対象とする。\n",
    "print(f'対象建物数：{gdf.shape[0]}件')"
   ]
  },
  {
   "cell_type": "markdown",
   "id": "69a9ea1b-9f38-4e0e-b7ce-2489e040bd80",
   "metadata": {},
   "source": [
    "#### ID付けを行う建物ポリゴン代表点の取得"
   ]
  },
  {
   "cell_type": "code",
   "execution_count": 4,
   "id": "a06bb9ce-5d19-4520-b276-406e9656ad86",
   "metadata": {},
   "outputs": [],
   "source": [
    "# 後続のジオメトリ演算処理を正確に行うため、ポリゴンジオメトリを平面直角座標系に変換\n",
    "gdf['projected_geometry'] = gdf['geometry'].to_crs('EPSG:6677')\n",
    "# ポリゴンの重心を平面直角座標系で取得\n",
    "gdf['projected_centroid'] = gdf['projected_geometry'].centroid"
   ]
  },
  {
   "cell_type": "code",
   "execution_count": 5,
   "id": "b8c161f3-3854-48da-8a4e-e290ea4f4d63",
   "metadata": {},
   "outputs": [],
   "source": [
    "# 平面直角座標系で重心がポリゴン内に含まれるかを取得\n",
    "gdf['is_centroid_inside'] = gdf[\"projected_geometry\"].contains(gdf[\"projected_centroid\"])"
   ]
  },
  {
   "cell_type": "code",
   "execution_count": 6,
   "id": "a4443f19-d6d1-4104-8135-fd968246ed4c",
   "metadata": {},
   "outputs": [
    {
     "name": "stdout",
     "output_type": "stream",
     "text": [
      "重心がポリゴン内に含まれない件数:19\n"
     ]
    }
   ],
   "source": [
    "# 重心がポリゴン内に含まれない場合の件数を取得\n",
    "outside_centroids = gdf[~gdf[\"is_centroid_inside\"]]\n",
    "print(f'重心がポリゴン内に含まれない件数:{len(outside_centroids)}')"
   ]
  },
  {
   "cell_type": "code",
   "execution_count": 7,
   "id": "fc063024-d040-4dca-bfdd-3325fec89354",
   "metadata": {},
   "outputs": [],
   "source": [
    "# 重心がポリゴン内に含まれない場合の対策として、ポリゴン内保証点(Point on Surface)を取得\n",
    "gdf[\"projected_point_on_surface\"] = gdf.apply(\n",
    "    lambda row: row[\"projected_geometry\"].point_on_surface(),\n",
    "    axis=1\n",
    ")"
   ]
  },
  {
   "cell_type": "code",
   "execution_count": 8,
   "id": "01421b5b-4f89-44ee-9027-62383aa48bc0",
   "metadata": {},
   "outputs": [
    {
     "name": "stdout",
     "output_type": "stream",
     "text": [
      "PLATEAUのbuilding_id: 13101-bldg-4528\n"
     ]
    },
    {
     "data": {
      "image/png": "[encoded data removed]",
      "text/plain": [
       "<Figure size 400x400 with 1 Axes>"
      ]
     },
     "metadata": {},
     "output_type": "display_data"
    }
   ],
   "source": [
    "from matplotlib.patches import Patch\n",
    "from matplotlib.lines import Line2D\n",
    "import matplotlib.ticker as ticker\n",
    "\n",
    "# 重心がポリゴン内に含まれない場合の任意の行を取得\n",
    "outside_centroids = gdf[~gdf[\"is_centroid_inside\"]] # キーを追加したので再取得\n",
    "example_row = outside_centroids.iloc[2]\n",
    "# PLATEAUのbuilding_idを表示\n",
    "print(f'PLATEAUのbuilding_id: {example_row[\"building_id\"]}')\n",
    "\n",
    "# プロット\n",
    "fig, ax = plt.subplots(figsize=(4, 4))\n",
    "\n",
    "# `example_row` のポリゴンと重心、ポリゴン内保証点のみをプロット\n",
    "geom_series = gpd.GeoSeries(example_row[\"projected_geometry\"])\n",
    "geom_series.plot(ax=ax, color=\"blue\", edgecolor=\"blue\", alpha=0.5)\n",
    "\n",
    "# 重心をプロット\n",
    "centroid_x, centroid_y = example_row[\"projected_centroid\"].coords[0]\n",
    "ax.scatter(centroid_x, centroid_y, color=\"red\", zorder=3, label=\"Centroid\")\n",
    "\n",
    "# ポリゴン内保証点をプロット\n",
    "point_on_surface_x, point_on_surface_y = example_row[\"projected_point_on_surface\"].coords[0]\n",
    "ax.scatter(point_on_surface_x, point_on_surface_y, color=\"orange\", zorder=4, label=\"Point on Surface\")\n",
    "\n",
    "# **プロット範囲の調整**\n",
    "bounds = example_row[\"projected_geometry\"].bounds  # (minx, miny, maxx, maxy)\n",
    "padding = 1  # 少し余裕を持たせる\n",
    "ax.set_xlim(bounds[0] - padding, bounds[2] + padding)\n",
    "ax.set_ylim(bounds[1] - padding, bounds[3] + padding)\n",
    "\n",
    "# **カスタム凡例を作成**\n",
    "legend_elements = [\n",
    "    Patch(facecolor='blue', edgecolor='blue', alpha=0.5, label='Polygon'),\n",
    "    Line2D([0], [0], marker='o', color='w', markerfacecolor='red', markersize=8, label='Centroid'),\n",
    "    Line2D([0], [0], marker='o', color='w', markerfacecolor='orange', markersize=8, label='Point on Surface')\n",
    "]\n",
    "ax.legend(handles=legend_elements, loc='lower right')\n",
    "\n",
    "# **Y軸のラベルを通常表記に変更**\n",
    "ax.yaxis.set_major_formatter(ticker.FormatStrFormatter(\"%.f\"))\n",
    "\n",
    "plt.show()"
   ]
  },
  {
   "cell_type": "code",
   "execution_count": 9,
   "id": "fc879cec-a40c-4ce8-a9af-36c6ff3c5c6c",
   "metadata": {},
   "outputs": [],
   "source": [
    "# 重心がポリゴン内に含まれない場合のフォールバック先として、ポリゴン内保証点を利用し、\n",
    "# 代表点(Representative Point)として格納\n",
    "gdf[\"projected_rep_point\"] = gdf.apply(\n",
    "    lambda row: row[\"projected_centroid\"] if row[\"is_centroid_inside\"] else row[\"projected_point_on_surface\"],\n",
    "    axis=1\n",
    ")"
   ]
  },
  {
   "cell_type": "code",
   "execution_count": 10,
   "id": "2ad6181e-ab36-433f-b787-c01091247cab",
   "metadata": {},
   "outputs": [],
   "source": [
    "# 代表点を経緯度座標に戻す\n",
    "gdf['rep_point'] = gdf['projected_rep_point'].set_crs('EPSG:6677').to_crs('EPSG:4326')"
   ]
  },
  {
   "cell_type": "markdown",
   "id": "1eca4c2b-0cd4-49c4-864c-dadf93b59f33",
   "metadata": {},
   "source": [
    "#### 代表点にGeohashのID付与\n",
    "[Geohashの桁数(精度)と矩形サイズの確認](check_geohash_size.ipynb) を参考に、代表点にGeohashの桁数11（1辺が10-15cm程度）のものを使用してID付け。"
   ]
  },
  {
   "cell_type": "code",
   "execution_count": 11,
   "id": "70a359aa-ae94-40c4-af07-cbc8f7a87ee3",
   "metadata": {},
   "outputs": [],
   "source": [
    "# IDを取得\n",
    "# 桁数11: 1辺約10-15cmの矩形を使用し、中点が所在する矩形のIDをそのまま使用。\n",
    "gdf['geohash'] = gdf['rep_point'].apply(\n",
    "    lambda point: geohash.encode(point.y, point.x, 11)\n",
    ")"
   ]
  },
  {
   "cell_type": "code",
   "execution_count": 12,
   "id": "7c8154d7-5d49-4262-8fb3-9f935b265499",
   "metadata": {},
   "outputs": [
    {
     "data": {
      "text/html": [
       "<div>\n",
       "<style scoped>\n",
       "    .dataframe tbody tr th:only-of-type {\n",
       "        vertical-align: middle;\n",
       "    }\n",
       "\n",
       "    .dataframe tbody tr th {\n",
       "        vertical-align: top;\n",
       "    }\n",
       "\n",
       "    .dataframe thead th {\n",
       "        text-align: right;\n",
       "    }\n",
       "</style>\n",
       "<table border=\"1\" class=\"dataframe\">\n",
       "  <thead>\n",
       "    <tr style=\"text-align: right;\">\n",
       "      <th></th>\n",
       "      <th>geometry</th>\n",
       "      <th>rep_point</th>\n",
       "      <th>geohash</th>\n",
       "    </tr>\n",
       "  </thead>\n",
       "  <tbody>\n",
       "    <tr>\n",
       "      <th>0</th>\n",
       "      <td>MULTIPOLYGON (((139.75562 35.66728, 139.75572 ...</td>\n",
       "      <td>POINT (139.75568 35.66727)</td>\n",
       "      <td>xn76ujnbzkb</td>\n",
       "    </tr>\n",
       "    <tr>\n",
       "      <th>1</th>\n",
       "      <td>MULTIPOLYGON (((139.76152 35.66693, 139.7615 3...</td>\n",
       "      <td>POINT (139.76153 35.66692)</td>\n",
       "      <td>xn76ukgnzdz</td>\n",
       "    </tr>\n",
       "    <tr>\n",
       "      <th>2</th>\n",
       "      <td>MULTIPOLYGON (((139.75604 35.66746, 139.75606 ...</td>\n",
       "      <td>POINT (139.7559 35.6675)</td>\n",
       "      <td>xn76ujp4hxe</td>\n",
       "    </tr>\n",
       "    <tr>\n",
       "      <th>3</th>\n",
       "      <td>MULTIPOLYGON (((139.75876 35.66753, 139.75874 ...</td>\n",
       "      <td>POINT (139.75884 35.66748)</td>\n",
       "      <td>xn76um1615g</td>\n",
       "    </tr>\n",
       "    <tr>\n",
       "      <th>4</th>\n",
       "      <td>MULTIPOLYGON (((139.75313 35.66752, 139.75313 ...</td>\n",
       "      <td>POINT (139.7531 35.66746)</td>\n",
       "      <td>xn76ujj450u</td>\n",
       "    </tr>\n",
       "  </tbody>\n",
       "</table>\n",
       "</div>"
      ],
      "text/plain": [
       "                                            geometry  \\\n",
       "0  MULTIPOLYGON (((139.75562 35.66728, 139.75572 ...   \n",
       "1  MULTIPOLYGON (((139.76152 35.66693, 139.7615 3...   \n",
       "2  MULTIPOLYGON (((139.75604 35.66746, 139.75606 ...   \n",
       "3  MULTIPOLYGON (((139.75876 35.66753, 139.75874 ...   \n",
       "4  MULTIPOLYGON (((139.75313 35.66752, 139.75313 ...   \n",
       "\n",
       "                    rep_point      geohash  \n",
       "0  POINT (139.75568 35.66727)  xn76ujnbzkb  \n",
       "1  POINT (139.76153 35.66692)  xn76ukgnzdz  \n",
       "2    POINT (139.7559 35.6675)  xn76ujp4hxe  \n",
       "3  POINT (139.75884 35.66748)  xn76um1615g  \n",
       "4   POINT (139.7531 35.66746)  xn76ujj450u  "
      ]
     },
     "execution_count": 12,
     "metadata": {},
     "output_type": "execute_result"
    }
   ],
   "source": [
    "# 結果を確認（最右列がGeohashID）\n",
    "gdf[['geometry', 'rep_point', 'geohash']].head(5)"
   ]
  },
  {
   "cell_type": "markdown",
   "id": "0088864e-21d9-44b5-8b93-1fbf6a7fbe8c",
   "metadata": {},
   "source": [
    "#### IDの有効性を確認\n",
    "\n",
    "各IDが割り振られている数を確認し、重複がないことをチェックする。各IDは11桁の英数字となる。"
   ]
  },
  {
   "cell_type": "code",
   "execution_count": 13,
   "id": "2dcdaba5-9a36-4ae8-9dbb-82d65f442d98",
   "metadata": {},
   "outputs": [
    {
     "name": "stdout",
     "output_type": "stream",
     "text": [
      "各IDに割り当てられた建物数の最大値：1\n",
      "\n",
      "\n",
      "念のためトップ5を確認し、以下の通り\n"
     ]
    },
    {
     "data": {
      "text/plain": [
       "geohash\n",
       "xn76ujnbzkb    1\n",
       "xn76uj7sud2    1\n",
       "xn76ujp4hxe    1\n",
       "xn76um1615g    1\n",
       "xn76ujj450u    1\n",
       "Name: count, dtype: int64"
      ]
     },
     "execution_count": 13,
     "metadata": {},
     "output_type": "execute_result"
    }
   ],
   "source": [
    "# IDごとに重複が無いことを確認。\n",
    "print(f\"各IDに割り当てられた建物数の最大値：{gdf['geohash'].value_counts().max()}\")\n",
    "\n",
    "# 各IDが割り当てられた建物数のトップ5は以下の通り\n",
    "print('\\n\\n念のためトップ5を確認し、以下の通り')\n",
    "gdf['geohash'].value_counts().sort_values(ascending = False).head(5)"
   ]
  },
  {
   "cell_type": "markdown",
   "id": "4ceb184a-980d-4229-a546-83c58624c2c0",
   "metadata": {},
   "source": [
    "#### 処理時間計測\n",
    "上記では一連の処理を探索的に行ったため、処理をまとめて時間を計測。"
   ]
  },
  {
   "cell_type": "code",
   "execution_count": 14,
   "id": "5b080ce3-d043-44c2-9593-1bca0dc2baf5",
   "metadata": {},
   "outputs": [],
   "source": [
    "# 建物データを再ロード\n",
    "gdf = gpd.read_file('../data/plateau/geopackage/13100_tokyo_2023.gpkg')"
   ]
  },
  {
   "cell_type": "code",
   "execution_count": 15,
   "id": "eaa9eb27-96e1-44bc-9695-9a17682604ce",
   "metadata": {},
   "outputs": [
    {
     "name": "stdout",
     "output_type": "stream",
     "text": [
      "CPU times: user 54.1 ms, sys: 1.55 ms, total: 55.6 ms\n",
      "Wall time: 54.8 ms\n"
     ]
    }
   ],
   "source": [
    "%%time\n",
    "# 代表点(重心 or ポリゴン内保証点)取得処理を関数化\n",
    "def rep_point(geometry):\n",
    "    centroid = geometry.centroid\n",
    "    if geometry.contains(centroid):\n",
    "        return centroid\n",
    "    else:\n",
    "        return geometry.point_on_surface()\n",
    "\n",
    "rep_points = gdf.to_crs('EPSG:6677').geometry.apply(rep_point)\n",
    "gdf = gdf.assign(\n",
    "    rep_point=gpd.GeoSeries(rep_points, crs='EPSG:6677').to_crs('EPSG:4326'),\n",
    "    geohash=lambda df: df['rep_point'].apply(lambda point: geohash.encode(point.y, point.x, 11))\n",
    ")"
   ]
  },
  {
   "cell_type": "markdown",
   "id": "712e3e7c-b8bf-4961-bc92-9d8fc2abb583",
   "metadata": {},
   "source": [
    "M1 MacBook Proで建物IDの付与処理時間が100ms(0.1秒)以内となり、パフォーマンスとしては十分と考えられる。"
   ]
  },
  {
   "cell_type": "code",
   "execution_count": 16,
   "id": "cbfa9782-dd79-4a77-8a17-a8be49a786d6",
   "metadata": {},
   "outputs": [
    {
     "name": "stdout",
     "output_type": "stream",
     "text": [
      "          building_id                   rep_point      geohash\n",
      "0     13103-bldg-2011  POINT (139.75568 35.66727)  xn76ujnbzkb\n",
      "1     13103-bldg-8429  POINT (139.76153 35.66692)  xn76ukgnzdz\n",
      "2     13103-bldg-1621    POINT (139.7559 35.6675)  xn76ujp4hxe\n",
      "3     13103-bldg-8732  POINT (139.75884 35.66748)  xn76um1615g\n",
      "4     13103-bldg-2250   POINT (139.7531 35.66746)  xn76ujj450u\n",
      "...               ...                         ...          ...\n",
      "4620  13101-bldg-1578  POINT (139.76541 35.68226)  xn76ury04ps\n",
      "4621   13101-bldg-727   POINT (139.76527 35.6826)  xn76urvfnwx\n",
      "4622   13101-bldg-384  POINT (139.76642 35.68155)  xn76urwu1e1\n",
      "4623  13101-bldg-3254   POINT (139.76881 35.6822)  xn76ux8xc5z\n",
      "4624  13101-bldg-1388  POINT (139.76551 35.67716)  xn76uqy4krf\n",
      "\n",
      "[4625 rows x 3 columns]\n"
     ]
    }
   ],
   "source": [
    "print(gdf[[\"building_id\", \"rep_point\", \"geohash\"]])"
   ]
  },
  {
   "cell_type": "code",
   "execution_count": 17,
   "id": "882a0bd2-6107-4995-8557-6f3c36517b7b",
   "metadata": {},
   "outputs": [],
   "source": [
    "# 結果をGeohash値でソートしてCSVに出力\n",
    "gdf.sort_values(\"geohash\")[[\"building_id\", \"rep_point\", \"geohash\"]].to_csv(\"../results/tokyo_2023_python_geohash.csv\", index=False)"
   ]
  }
 ],
 "metadata": {
  "kernelspec": {
   "display_name": "Python 3 (ipykernel)",
   "language": "python",
   "name": "python3"
  },
  "language_info": {
   "codemirror_mode": {
    "name": "ipython",
    "version": 3
   },
   "file_extension": ".py",
   "mimetype": "text/x-python",
   "name": "python",
   "nbconvert_exporter": "python",
   "pygments_lexer": "ipython3",
   "version": "3.13.1"
  }
 },
 "nbformat": 4,
 "nbformat_minor": 5
}
