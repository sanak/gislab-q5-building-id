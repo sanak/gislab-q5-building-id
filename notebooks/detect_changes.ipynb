{
 "cells": [
  {
   "cell_type": "markdown",
   "id": "3cbe3666-a188-48f8-a7d7-4925ced5487f",
   "metadata": {},
   "source": [
    "# 建物ポリゴン代表点のGeohash値からの経年変化箇所の検出\n",
    "\n",
    "### 使用データ\n",
    "\n",
    "PLATEAUの東京都都心部の2023年度、2022年度データを使用。\n",
    "- [3D都市モデル（Project PLATEAU）千代田区（2023年度）](https://www.geospatial.jp/ckan/dataset/plateau-13101-chiyoda-ku-2023)\n",
    "- [3D都市モデル（Project PLATEAU）東京23区（2022年度）](https://www.geospatial.jp/ckan/dataset/plateau-tokyo23ku-2022)\n",
    "  - いずれも、CityGML（v3）データより、東京駅付近の3次メッシュ4区画分のLOD0データをGDALのogr2ogrでGeoPackageに変換したものを利用。\n",
    "  - 3次メッシュ: 53394600,53394601,53394610,53394611\n",
    "  - 平面直角座標系番号: 9系 (EPSG:6677)"
   ]
  },
  {
   "cell_type": "code",
   "execution_count": 1,
   "id": "0b213d11-105e-4f72-898f-6ce38d8099eb",
   "metadata": {},
   "outputs": [],
   "source": [
    "import geohash\n",
    "import geopandas as gpd\n",
    "import matplotlib.pyplot as plt"
   ]
  },
  {
   "cell_type": "code",
   "execution_count": 4,
   "id": "6a3555ed-b8b5-400d-a4d1-8b9536074fea",
   "metadata": {},
   "outputs": [
    {
     "name": "stdout",
     "output_type": "stream",
     "text": [
      "2023年度の建物数：4625件\n",
      "2022年度の建物数：4405件\n"
     ]
    }
   ],
   "source": [
    "# 各年度の建物データをロードし、件数を確認\n",
    "gdf_2023 = gpd.read_file('../data/plateau/geopackage/13100_tokyo_2023.gpkg')\n",
    "gdf_2022 = gpd.read_file('../data/plateau/geopackage/13100_tokyo_2022.gpkg')\n",
    "\n",
    "print(f'2023年度の建物数：{gdf_2023.shape[0]}件')\n",
    "print(f'2022年度の建物数：{gdf_2022.shape[0]}件')"
   ]
  },
  {
   "cell_type": "code",
   "execution_count": 13,
   "id": "53bfb65d-62a2-4cff-b036-d84b51cbe820",
   "metadata": {},
   "outputs": [],
   "source": [
    "# 代表点(重心 or ポリゴン内保証点)取得処理\n",
    "def rep_point(geometry):\n",
    "    centroid = geometry.centroid\n",
    "    if geometry.contains(centroid):\n",
    "        return centroid\n",
    "    else:\n",
    "        return geometry.point_on_surface()\n",
    "\n",
    "# 2023年度データに代表点・Geohash値を追加\n",
    "rep_points_2023 = gdf_2023.to_crs('EPSG:6677').geometry.apply(rep_point)\n",
    "gdf_2023 = gdf_2023.assign(\n",
    "    rep_point=gpd.GeoSeries(rep_points_2023, crs='EPSG:6677').to_crs('EPSG:4326'),\n",
    "    geohash=lambda df: df['rep_point'].apply(lambda point: geohash.encode(point.y, point.x, 11))\n",
    ")\n",
    "\n",
    "# 2022年度データに代表点・Geohash値を追加\n",
    "rep_points_2022 = gdf_2022.to_crs('EPSG:6677').geometry.apply(rep_point)\n",
    "gdf_2022 = gdf_2022.assign(\n",
    "    rep_point=gpd.GeoSeries(rep_points_2022, crs='EPSG:6677').to_crs('EPSG:4326'),\n",
    "    geohash=lambda df: df['rep_point'].apply(lambda point: geohash.encode(point.y, point.x, 11))\n",
    ")\n",
    "\n",
    "# 結果をGeohash値でソートしてCSVに出力\n",
    "gdf_2023.sort_values(\"geohash\")[[\"geohash\"]].to_csv(\"../results/tokyo_2023_python_only_geohash.csv\", index=False)\n",
    "gdf_2022.sort_values(\"geohash\")[[\"geohash\"]].to_csv(\"../results/tokyo_2022_python_only_geohash.csv\", index=False)"
   ]
  },
  {
   "cell_type": "code",
   "execution_count": 14,
   "id": "355b8694-727a-4ea8-aef6-acc210df6541",
   "metadata": {},
   "outputs": [
    {
     "name": "stdout",
     "output_type": "stream",
     "text": [
      "2023年度データにのみ存在するGeohash値件数：4556件\n",
      "2023年度データにのみ存在するGeohash値件数：4336件\n"
     ]
    }
   ],
   "source": [
    "# 2023年度データにのみ存在するGeohash値の行を抽出\n",
    "only_in_gdf_2023 = gdf_2023[~gdf_2023['geohash'].isin(gdf_2022['geohash'])]\n",
    "\n",
    "# 2022年度データにのみ存在するGeohash値の行を抽出\n",
    "only_in_gdf_2022 = gdf_2022[~gdf_2022['geohash'].isin(gdf_2023['geohash'])]\n",
    "\n",
    "print(f'2023年度データにのみ存在するGeohash値件数：{only_in_gdf_2023.shape[0]}件')\n",
    "print(f'2023年度データにのみ存在するGeohash値件数：{only_in_gdf_2022.shape[0]}件')"
   ]
  },
  {
   "cell_type": "code",
   "execution_count": null,
   "id": "eb5428e6-a529-48ca-91c3-24909cb877e7",
   "metadata": {},
   "outputs": [],
   "source": []
  }
 ],
 "metadata": {
  "kernelspec": {
   "display_name": "Python 3 (ipykernel)",
   "language": "python",
   "name": "python3"
  },
  "language_info": {
   "codemirror_mode": {
    "name": "ipython",
    "version": 3
   },
   "file_extension": ".py",
   "mimetype": "text/x-python",
   "name": "python",
   "nbconvert_exporter": "python",
   "pygments_lexer": "ipython3",
   "version": "3.13.1"
  }
 },
 "nbformat": 4,
 "nbformat_minor": 5
}
